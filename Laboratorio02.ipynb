{
  "nbformat": 4,
  "nbformat_minor": 0,
  "metadata": {
    "colab": {
      "provenance": []
    },
    "kernelspec": {
      "name": "python3",
      "display_name": "Python 3"
    },
    "language_info": {
      "name": "python"
    }
  },
  "cells": [
    {
      "cell_type": "markdown",
      "source": [
        "# Laboratorio # 2"
      ],
      "metadata": {
        "id": "wk8LSWL3dsXq"
      }
    },
    {
      "cell_type": "markdown",
      "source": [
        "## Parte #1"
      ],
      "metadata": {
        "id": "cMV3uMuYdv1L"
      }
    },
    {
      "cell_type": "markdown",
      "source": [
        "### Ejercicio #1"
      ],
      "metadata": {
        "id": "C68WsnGTd1tE"
      }
    },
    {
      "cell_type": "code",
      "source": [
        "import time\n",
        "\n",
        "def HorasMinutosSegundos(numero_de_segundos=-1):\n",
        "  if type(numero_de_segundos) == int or type(numero_de_segundos) == float:\n",
        "      if(numero_de_segundos < 0):\n",
        "        print('Por favor ingrese un valor válido')\n",
        "      else:\n",
        "        convert = time.strftime(\"Horas: %H, Minutos: %M, Segundos: %S\", time.gmtime(numero_de_segundos))\n",
        "        print(convert)\n",
        "  else:\n",
        "      print('El valor ingresado no es numérico')\n"
      ],
      "metadata": {
        "id": "epfSLVImduRx"
      },
      "execution_count": 12,
      "outputs": []
    },
    {
      "cell_type": "code",
      "source": [
        "HorasMinutosSegundos(2743)"
      ],
      "metadata": {
        "colab": {
          "base_uri": "https://localhost:8080/"
        },
        "id": "H7ySpPuxf-d-",
        "outputId": "ff6a1800-6ec3-493a-ee15-c3675aa2c64c"
      },
      "execution_count": 15,
      "outputs": [
        {
          "output_type": "stream",
          "name": "stdout",
          "text": [
            "Horas: 00, Minutos: 45, Segundos: 43\n"
          ]
        }
      ]
    },
    {
      "cell_type": "markdown",
      "source": [
        "### Ejercicio #2"
      ],
      "metadata": {
        "id": "ccW5QPLUgI1p"
      }
    },
    {
      "cell_type": "code",
      "source": [
        "def patrones_triangulares(numero, caracter):\n",
        "  lines = []\n",
        "  espacio = 10\n",
        "  for i in range(0, numero):\n",
        "    line = caracter*(i+1) + ' '*espacio + caracter*(numero-i) + ' '*espacio + caracter*(numero-i) + ' '*espacio + caracter*(i+1) + '\\n'\n",
        "    print(line)\n"
      ],
      "metadata": {
        "id": "K6Zl0EwDgFsJ"
      },
      "execution_count": 26,
      "outputs": []
    },
    {
      "cell_type": "code",
      "source": [
        "patrones_triangulares(5,'*')"
      ],
      "metadata": {
        "colab": {
          "base_uri": "https://localhost:8080/"
        },
        "id": "6eCJrzd5ifkf",
        "outputId": "136e588f-39cf-43a0-a1bb-526808aadeb6"
      },
      "execution_count": 28,
      "outputs": [
        {
          "output_type": "stream",
          "name": "stdout",
          "text": [
            "*          *****          *****          *\n",
            "\n",
            "**          ****          ****          **\n",
            "\n",
            "***          ***          ***          ***\n",
            "\n",
            "****          **          **          ****\n",
            "\n",
            "*****          *          *          *****\n",
            "\n"
          ]
        }
      ]
    },
    {
      "cell_type": "markdown",
      "source": [
        "### Ejercicio #3"
      ],
      "metadata": {
        "id": "XWko-MiAjb-9"
      }
    },
    {
      "cell_type": "code",
      "source": [
        "import datetime\n",
        "import calendar\n",
        "from dateutil.relativedelta import relativedelta\n",
        "\n",
        "def edad_persona(day, month, year):\n",
        "    today = datetime.date.today()\n",
        "    born = datetime.date(year=year,day=day,month=month)\n",
        "\n",
        "    years = today.year - born.year\n",
        "    months = today.month - born.month\n",
        "    days = today.day - born.day\n",
        "    prev_month = today + relativedelta(months=-1)\n",
        "\n",
        "    if today.day < born.day:\n",
        "        months -= 1\n",
        "        days = calendar.monthrange(prev_month.year,prev_month.month)[1] - abs(days)\n",
        "    if months < 0:\n",
        "        months += 12\n",
        "        years -= 1\n",
        "\n",
        "    print( 'Años: {}, meses: {}, dias: {}'.format( years, months, days))"
      ],
      "metadata": {
        "id": "lG6EjlHkiia5"
      },
      "execution_count": 59,
      "outputs": []
    },
    {
      "cell_type": "code",
      "source": [
        "edad_persona(23,6,2000)"
      ],
      "metadata": {
        "colab": {
          "base_uri": "https://localhost:8080/"
        },
        "id": "SzAKe2qIkpno",
        "outputId": "c2a9bd5f-e7ad-49ab-cc18-db14d84559eb"
      },
      "execution_count": 63,
      "outputs": [
        {
          "output_type": "stream",
          "name": "stdout",
          "text": [
            "Años: 22, meses: 8, dias: 3\n"
          ]
        }
      ]
    },
    {
      "cell_type": "markdown",
      "source": [
        "### Ejercicio 4"
      ],
      "metadata": {
        "id": "iunVN7VGvs8_"
      }
    },
    {
      "cell_type": "code",
      "source": [
        "def tupla_to_string(tupla):\n",
        "  print(type(tupla))\n",
        "  print(''.join(map(str,tupla)))"
      ],
      "metadata": {
        "id": "3EbXV7lzkr6e"
      },
      "execution_count": 66,
      "outputs": []
    },
    {
      "cell_type": "code",
      "source": [
        "tupla_to_string((1,2,3))"
      ],
      "metadata": {
        "colab": {
          "base_uri": "https://localhost:8080/"
        },
        "id": "6HZLgchFwNwo",
        "outputId": "c1a19517-218d-4d44-8ecc-a4c0f44a2069"
      },
      "execution_count": 67,
      "outputs": [
        {
          "output_type": "stream",
          "name": "stdout",
          "text": [
            "<class 'tuple'>\n",
            "123\n"
          ]
        }
      ]
    },
    {
      "cell_type": "markdown",
      "source": [
        "### Ejercicio 5"
      ],
      "metadata": {
        "id": "rLxumNck0A47"
      }
    },
    {
      "cell_type": "code",
      "source": [
        "def eliminar_tuplas_vacias(tuplas):\n",
        "    tuplas = list(filter(None, tuplas))\n",
        "    return tuplas"
      ],
      "metadata": {
        "id": "nPK9Aa7-wQNW"
      },
      "execution_count": 77,
      "outputs": []
    },
    {
      "cell_type": "code",
      "source": [
        "tp = eliminar_tuplas_vacias([(),(),('X',),('a','b'),('a','b','c'),('d')])\n",
        "print(tp)"
      ],
      "metadata": {
        "colab": {
          "base_uri": "https://localhost:8080/"
        },
        "id": "vR0GFMOl0c_X",
        "outputId": "1f24157a-4c09-4f6f-b812-e04fc5e2611b"
      },
      "execution_count": 79,
      "outputs": [
        {
          "output_type": "stream",
          "name": "stdout",
          "text": [
            "[('X',), ('a', 'b'), ('a', 'b', 'c'), 'd']\n"
          ]
        }
      ]
    },
    {
      "cell_type": "markdown",
      "source": [
        "### Ejercicio 6"
      ],
      "metadata": {
        "id": "8HaAFRM92ccW"
      }
    },
    {
      "cell_type": "code",
      "source": [
        "def calcular_promedio(tuplas):\n",
        "  promedios = ()\n",
        "  for tupla in tuplas:\n",
        "    promedios += (sum(tupla)/len(tupla),)\n",
        "  return promedios"
      ],
      "metadata": {
        "id": "XI4FGK022QAe"
      },
      "execution_count": 95,
      "outputs": []
    },
    {
      "cell_type": "code",
      "source": [
        "calcular_promedio(((10,10,10,12),(30,45,56,45),(81,80,39,32)))"
      ],
      "metadata": {
        "colab": {
          "base_uri": "https://localhost:8080/"
        },
        "id": "9RgfgJNI37oX",
        "outputId": "bd586685-9039-4a14-a9e4-e3f0ff90b66b"
      },
      "execution_count": 96,
      "outputs": [
        {
          "output_type": "execute_result",
          "data": {
            "text/plain": [
              "(10.5, 44.0, 58.0)"
            ]
          },
          "metadata": {},
          "execution_count": 96
        }
      ]
    },
    {
      "cell_type": "markdown",
      "source": [
        "### Ejercicio 7"
      ],
      "metadata": {
        "id": "9PNRb4Oc41bN"
      }
    },
    {
      "cell_type": "code",
      "source": [
        "def gestion_facturas():\n",
        "\n",
        "  dict_facturas = {}\n",
        "  cant_pagada = 0\n",
        "  cant_pendiente = 0\n",
        "\n",
        "  keep = True\n",
        "  while(keep):\n",
        "    user_input = input(\"¡Bienvenido! ¿Qué desea hacer?\\n 1. Añadir una factura\\n2. Pagar una factura\\n3.Terminar: \")\n",
        "    print(user_input)\n",
        "    if(user_input == '1'):\n",
        "      num_factura = input(\"Ingrese el número de factura: \")\n",
        "      costo_factura = input(\"Ingrese el costo de la factura: \")\n",
        "      ndict = {num_factura:\n",
        "          {'costo_factura': costo_factura}\n",
        "      }\n",
        "      dict_facturas.update(ndict)\n",
        "      print(dict_facturas)\n",
        "      cant_pendiente += float(costo_factura)\n",
        "      print(\"* Cantidad cobrada hasta el momento: {}\\nCantidad pendiente de cobro al momento: {}\".format(cant_pagada, cant_pendiente))\n",
        "    elif(user_input=='2'):\n",
        "      num_factura = input(\"Ingrese el número de factura a pagar: \")\n",
        "      remove_key = dict_facturas.pop(num_factura, None)\n",
        "      print(remove_key)\n",
        "      if remove_key != None:\n",
        "        print(\"La factura {} ha sido pagada.\".format(num_factura))\n",
        "        cant_pagada += float(remove_key['costo_factura'])\n",
        "        cant_pendiente -= cant_pagada\n",
        "      else:\n",
        "        print(\"La factura {} no existe en el sistema.\".format(num_factura))\n",
        "      print(\"* Cantidad cobrada hasta el momento: {}\\nCantidad pendiente de cobro al momento: {}\".format(cant_pagada, cant_pendiente))\n",
        "    else:\n",
        "      keep = False"
      ],
      "metadata": {
        "id": "saNGN4GC5Suo"
      },
      "execution_count": 114,
      "outputs": []
    },
    {
      "cell_type": "code",
      "source": [
        "gestion_facturas()"
      ],
      "metadata": {
        "colab": {
          "base_uri": "https://localhost:8080/"
        },
        "id": "Lbp1fCiq6E8E",
        "outputId": "a83ad31d-2316-437a-9c87-330f067962ee"
      },
      "execution_count": 113,
      "outputs": [
        {
          "output_type": "stream",
          "name": "stdout",
          "text": [
            "¡Bienvenido! ¿Qué desea hacer?\n",
            " 1. Añadir una factura\n",
            "2. Pagar una factura\n",
            "3.Terminar: 1\n",
            "1\n",
            "Ingrese el número de factura: 1\n",
            "Ingrese el costo de la factura: 1\n",
            "{'1': {'costo_factura': '1'}}\n",
            "* Cantidad cobrada hasta el momento: 0\n",
            "Cantidad pendiente de cobro al momento: 1.0\n",
            "¡Bienvenido! ¿Qué desea hacer?\n",
            " 1. Añadir una factura\n",
            "2. Pagar una factura\n",
            "3.Terminar: 2\n",
            "2\n",
            "Ingrese el número de factura a pagar: 1\n",
            "{'costo_factura': '1'}\n",
            "La factura 1 ha sido pagada.\n",
            "¡Bienvenido! ¿Qué desea hacer?\n",
            " 1. Añadir una factura\n",
            "2. Pagar una factura\n",
            "3.Terminar: 45\n",
            "45\n"
          ]
        }
      ]
    },
    {
      "cell_type": "markdown",
      "source": [
        "### Ejercicio 8"
      ],
      "metadata": {
        "id": "B5KYDz9sAKcK"
      }
    },
    {
      "cell_type": "code",
      "source": [
        "def crear_set_cartas():\n",
        "  set_cartas = set()\n",
        "  grupos = ['T','C','P','E']\n",
        "  for grupo in grupos:\n",
        "    for i in range(1, 14):\n",
        "      el = grupo + \"{:02d}\".format(i)\n",
        "      set_cartas.add(el)\n",
        "  return(set_cartas)"
      ],
      "metadata": {
        "id": "9LQubNDp6G0C"
      },
      "execution_count": 136,
      "outputs": []
    },
    {
      "cell_type": "code",
      "source": [
        "set_cartas = crear_set_cartas()\n",
        "set_cartas"
      ],
      "metadata": {
        "colab": {
          "base_uri": "https://localhost:8080/"
        },
        "id": "4TByLwfcBtCp",
        "outputId": "2e8b063a-e3d1-4c23-ed08-808efb38f239"
      },
      "execution_count": 137,
      "outputs": [
        {
          "output_type": "execute_result",
          "data": {
            "text/plain": [
              "{'C01',\n",
              " 'C02',\n",
              " 'C03',\n",
              " 'C04',\n",
              " 'C05',\n",
              " 'C06',\n",
              " 'C07',\n",
              " 'C08',\n",
              " 'C09',\n",
              " 'C10',\n",
              " 'C11',\n",
              " 'C12',\n",
              " 'C13',\n",
              " 'E01',\n",
              " 'E02',\n",
              " 'E03',\n",
              " 'E04',\n",
              " 'E05',\n",
              " 'E06',\n",
              " 'E07',\n",
              " 'E08',\n",
              " 'E09',\n",
              " 'E10',\n",
              " 'E11',\n",
              " 'E12',\n",
              " 'E13',\n",
              " 'P01',\n",
              " 'P02',\n",
              " 'P03',\n",
              " 'P04',\n",
              " 'P05',\n",
              " 'P06',\n",
              " 'P07',\n",
              " 'P08',\n",
              " 'P09',\n",
              " 'P10',\n",
              " 'P11',\n",
              " 'P12',\n",
              " 'P13',\n",
              " 'T01',\n",
              " 'T02',\n",
              " 'T03',\n",
              " 'T04',\n",
              " 'T05',\n",
              " 'T06',\n",
              " 'T07',\n",
              " 'T08',\n",
              " 'T09',\n",
              " 'T10',\n",
              " 'T11',\n",
              " 'T12',\n",
              " 'T13'}"
            ]
          },
          "metadata": {},
          "execution_count": 137
        }
      ]
    },
    {
      "cell_type": "code",
      "source": [
        "import random\n",
        "\n",
        "def split_set(setdatos, c1_cantidad):\n",
        "  s1 = set(random.sample(setdatos, c1_cantidad))\n",
        "  s2 = set(random.sample(setdatos, c1_cantidad))\n",
        "  return s1, s2"
      ],
      "metadata": {
        "id": "nCmQonHrBubx"
      },
      "execution_count": 147,
      "outputs": []
    },
    {
      "cell_type": "code",
      "source": [
        "s1, s2 = split_set(set_cartas, 20)"
      ],
      "metadata": {
        "id": "IaVKO5zrCkxK"
      },
      "execution_count": 148,
      "outputs": []
    },
    {
      "cell_type": "code",
      "source": [
        "s1"
      ],
      "metadata": {
        "colab": {
          "base_uri": "https://localhost:8080/"
        },
        "id": "UkaE35OnCzX1",
        "outputId": "628a80c3-5544-4d51-a35f-35fda5c2d3c4"
      },
      "execution_count": 149,
      "outputs": [
        {
          "output_type": "execute_result",
          "data": {
            "text/plain": [
              "{'C04',\n",
              " 'C06',\n",
              " 'C07',\n",
              " 'C10',\n",
              " 'C11',\n",
              " 'E02',\n",
              " 'E03',\n",
              " 'E04',\n",
              " 'E05',\n",
              " 'E08',\n",
              " 'E13',\n",
              " 'P02',\n",
              " 'P06',\n",
              " 'P07',\n",
              " 'P09',\n",
              " 'T06',\n",
              " 'T07',\n",
              " 'T08',\n",
              " 'T09',\n",
              " 'T12'}"
            ]
          },
          "metadata": {},
          "execution_count": 149
        }
      ]
    },
    {
      "cell_type": "code",
      "source": [
        "s2"
      ],
      "metadata": {
        "colab": {
          "base_uri": "https://localhost:8080/"
        },
        "id": "ozHfvSxEC7In",
        "outputId": "b6b4bbf1-3c48-41f4-fc7c-18e7122964b7"
      },
      "execution_count": 150,
      "outputs": [
        {
          "output_type": "execute_result",
          "data": {
            "text/plain": [
              "{'C01',\n",
              " 'C02',\n",
              " 'C03',\n",
              " 'C05',\n",
              " 'C06',\n",
              " 'C08',\n",
              " 'C12',\n",
              " 'E03',\n",
              " 'E04',\n",
              " 'E09',\n",
              " 'E10',\n",
              " 'E11',\n",
              " 'P01',\n",
              " 'P05',\n",
              " 'P10',\n",
              " 'T01',\n",
              " 'T02',\n",
              " 'T06',\n",
              " 'T10',\n",
              " 'T11'}"
            ]
          },
          "metadata": {},
          "execution_count": 150
        }
      ]
    },
    {
      "cell_type": "code",
      "source": [
        "intersection = s1.intersection(s2)"
      ],
      "metadata": {
        "id": "XZ1BJghjC7p6"
      },
      "execution_count": 156,
      "outputs": []
    },
    {
      "cell_type": "code",
      "source": [
        "p_intersection = len(intersection)/len(set_cartas)"
      ],
      "metadata": {
        "id": "rpS0ZDqyFlOO"
      },
      "execution_count": 160,
      "outputs": []
    },
    {
      "cell_type": "code",
      "source": [
        "p_intersection"
      ],
      "metadata": {
        "colab": {
          "base_uri": "https://localhost:8080/"
        },
        "id": "BbqnsLbmFXvf",
        "outputId": "115ee1e3-420c-4c17-adc5-00b271727a49"
      },
      "execution_count": 161,
      "outputs": [
        {
          "output_type": "execute_result",
          "data": {
            "text/plain": [
              "0.07692307692307693"
            ]
          },
          "metadata": {},
          "execution_count": 161
        }
      ]
    },
    {
      "cell_type": "code",
      "source": [
        "p_s1 = len(s1)/len(set_cartas)\n",
        "p_s1"
      ],
      "metadata": {
        "colab": {
          "base_uri": "https://localhost:8080/"
        },
        "id": "wvgIBJKIFkHV",
        "outputId": "d6b23956-65b7-4df9-eb03-f97e2da55cfa"
      },
      "execution_count": 163,
      "outputs": [
        {
          "output_type": "execute_result",
          "data": {
            "text/plain": [
              "0.38461538461538464"
            ]
          },
          "metadata": {},
          "execution_count": 163
        }
      ]
    },
    {
      "cell_type": "code",
      "source": [
        "p_s2 = len(s2)/len(set_cartas)\n",
        "p_s2"
      ],
      "metadata": {
        "colab": {
          "base_uri": "https://localhost:8080/"
        },
        "id": "3T6rVkDhGJ5D",
        "outputId": "51d36c5f-dac2-4084-bb5a-8fba60b360c7"
      },
      "execution_count": 165,
      "outputs": [
        {
          "output_type": "execute_result",
          "data": {
            "text/plain": [
              "0.38461538461538464"
            ]
          },
          "metadata": {},
          "execution_count": 165
        }
      ]
    },
    {
      "cell_type": "code",
      "source": [
        "regla_del_producto = p_s1*p_s2\n",
        "regla_del_producto"
      ],
      "metadata": {
        "colab": {
          "base_uri": "https://localhost:8080/"
        },
        "id": "l2ei2WWyGQYf",
        "outputId": "9910cdce-2bd7-4152-d614-4ba0fd2bfa7c"
      },
      "execution_count": 167,
      "outputs": [
        {
          "output_type": "execute_result",
          "data": {
            "text/plain": [
              "0.14792899408284024"
            ]
          },
          "metadata": {},
          "execution_count": 167
        }
      ]
    },
    {
      "cell_type": "code",
      "source": [
        "if(p_intersection == regla_del_producto):\n",
        "  print(\"Son eventos independientes\")\n",
        "else:\n",
        "  print(\"No son eventos independientes\")"
      ],
      "metadata": {
        "colab": {
          "base_uri": "https://localhost:8080/"
        },
        "id": "F4otPQjcGYKJ",
        "outputId": "17b6dc8b-95b6-4f4c-a55d-8d64dfcf433c"
      },
      "execution_count": 168,
      "outputs": [
        {
          "output_type": "stream",
          "name": "stdout",
          "text": [
            "No son eventos independientes\n"
          ]
        }
      ]
    },
    {
      "cell_type": "code",
      "source": [
        "union = s1.union(s2)"
      ],
      "metadata": {
        "id": "xdBRO-5mGoeT"
      },
      "execution_count": 169,
      "outputs": []
    },
    {
      "cell_type": "code",
      "source": [
        "p_union = len(union)/len(set_cartas)\n",
        "p_union"
      ],
      "metadata": {
        "colab": {
          "base_uri": "https://localhost:8080/"
        },
        "id": "gIH66MKcGtxJ",
        "outputId": "36872d15-3d56-4401-feb8-69ab00262b5e"
      },
      "execution_count": 170,
      "outputs": [
        {
          "output_type": "execute_result",
          "data": {
            "text/plain": [
              "0.6923076923076923"
            ]
          },
          "metadata": {},
          "execution_count": 170
        }
      ]
    },
    {
      "cell_type": "code",
      "source": [
        "regla_de_la_adicion = p_s1+p_s2-p_intersection\n",
        "regla_de_la_adicion"
      ],
      "metadata": {
        "colab": {
          "base_uri": "https://localhost:8080/"
        },
        "id": "deIdY-pjGy2K",
        "outputId": "2536b4e1-9da1-4505-952c-3936ba82cc27"
      },
      "execution_count": 173,
      "outputs": [
        {
          "output_type": "execute_result",
          "data": {
            "text/plain": [
              "0.6923076923076923"
            ]
          },
          "metadata": {},
          "execution_count": 173
        }
      ]
    },
    {
      "cell_type": "code",
      "source": [
        "if(p_union == regla_de_la_adicion):\n",
        "  print(\"Se cumple la regla de la adicion\")\n",
        "else:\n",
        "  print(\"No se cumple la regla de la adicion\")"
      ],
      "metadata": {
        "colab": {
          "base_uri": "https://localhost:8080/"
        },
        "id": "yaWxXtVhG2g5",
        "outputId": "8f6e3ac2-5750-4f7a-b3bb-734f81a78072"
      },
      "execution_count": 174,
      "outputs": [
        {
          "output_type": "stream",
          "name": "stdout",
          "text": [
            "Se cumple la regla de la adicion\n"
          ]
        }
      ]
    },
    {
      "cell_type": "code",
      "source": [],
      "metadata": {
        "id": "MZGfbEcsHJDa"
      },
      "execution_count": null,
      "outputs": []
    }
  ]
}