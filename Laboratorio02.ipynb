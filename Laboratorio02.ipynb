{
 "cells": [
  {
   "cell_type": "markdown",
   "metadata": {
    "id": "wk8LSWL3dsXq"
   },
   "source": [
    "# Laboratorio # 2"
   ]
  },
  {
   "cell_type": "markdown",
   "metadata": {
    "id": "cMV3uMuYdv1L"
   },
   "source": [
    "## Parte #1"
   ]
  },
  {
   "cell_type": "markdown",
   "metadata": {
    "id": "C68WsnGTd1tE"
   },
   "source": [
    "### Ejercicio #1"
   ]
  },
  {
   "cell_type": "code",
   "execution_count": 1,
   "metadata": {
    "id": "epfSLVImduRx"
   },
   "outputs": [],
   "source": [
    "import time\n",
    "\n",
    "def HorasMinutosSegundos(numero_de_segundos=-1):\n",
    "  if type(numero_de_segundos) == int or type(numero_de_segundos) == float:\n",
    "      if(numero_de_segundos < 0):\n",
    "        print('Por favor ingrese un valor válido')\n",
    "      else:\n",
    "        convert = time.strftime(\"Horas: %H, Minutos: %M, Segundos: %S\", time.gmtime(numero_de_segundos))\n",
    "        print(convert)\n",
    "  else:\n",
    "      print('El valor ingresado no es numérico')\n"
   ]
  },
  {
   "cell_type": "code",
   "execution_count": 2,
   "metadata": {
    "colab": {
     "base_uri": "https://localhost:8080/"
    },
    "id": "H7ySpPuxf-d-",
    "outputId": "ff6a1800-6ec3-493a-ee15-c3675aa2c64c"
   },
   "outputs": [
    {
     "name": "stdout",
     "output_type": "stream",
     "text": [
      "Horas: 00, Minutos: 45, Segundos: 43\n"
     ]
    }
   ],
   "source": [
    "HorasMinutosSegundos(2743)"
   ]
  },
  {
   "cell_type": "markdown",
   "metadata": {
    "id": "ccW5QPLUgI1p"
   },
   "source": [
    "### Ejercicio #2"
   ]
  },
  {
   "cell_type": "code",
   "execution_count": 48,
   "metadata": {
    "id": "K6Zl0EwDgFsJ"
   },
   "outputs": [],
   "source": [
    "def patrones_triangulares(numero, caracter):\n",
    "    lines = []\n",
    "    espacio = 10\n",
    "    if( (numero > 20) | (numero < 0) ):\n",
    "        print(\"Por favor ingrese un número válido\")\n",
    "    else:\n",
    "        for i in range(0, numero):\n",
    "            line = caracter*(i+1) + ' '*espacio + caracter*(numero-i) + ' '*espacio + caracter*(numero-i) + ' '*espacio + caracter*(i+1) + '\\n'\n",
    "            print(line)\n"
   ]
  },
  {
   "cell_type": "code",
   "execution_count": 49,
   "metadata": {
    "colab": {
     "base_uri": "https://localhost:8080/"
    },
    "id": "6eCJrzd5ifkf",
    "outputId": "136e588f-39cf-43a0-a1bb-526808aadeb6"
   },
   "outputs": [
    {
     "name": "stdout",
     "output_type": "stream",
     "text": [
      "*          *****          *****          *\n",
      "\n",
      "**          ****          ****          **\n",
      "\n",
      "***          ***          ***          ***\n",
      "\n",
      "****          **          **          ****\n",
      "\n",
      "*****          *          *          *****\n",
      "\n"
     ]
    }
   ],
   "source": [
    "patrones_triangulares(5,'*')"
   ]
  },
  {
   "cell_type": "markdown",
   "metadata": {
    "id": "XWko-MiAjb-9"
   },
   "source": [
    "### Ejercicio #3"
   ]
  },
  {
   "cell_type": "code",
   "execution_count": 5,
   "metadata": {
    "id": "lG6EjlHkiia5"
   },
   "outputs": [],
   "source": [
    "import datetime\n",
    "import calendar\n",
    "from dateutil.relativedelta import relativedelta\n",
    "\n",
    "def edad_persona(day, month, year):\n",
    "    today = datetime.date.today()\n",
    "    born = datetime.date(year=year,day=day,month=month)\n",
    "\n",
    "    years = today.year - born.year\n",
    "    months = today.month - born.month\n",
    "    days = today.day - born.day\n",
    "    prev_month = today + relativedelta(months=-1)\n",
    "\n",
    "    if today.day < born.day:\n",
    "        months -= 1\n",
    "        days = calendar.monthrange(prev_month.year,prev_month.month)[1] - abs(days)\n",
    "    if months < 0:\n",
    "        months += 12\n",
    "        years -= 1\n",
    "\n",
    "    print( 'Años: {}, meses: {}, dias: {}'.format( years, months, days))"
   ]
  },
  {
   "cell_type": "code",
   "execution_count": 6,
   "metadata": {
    "colab": {
     "base_uri": "https://localhost:8080/"
    },
    "id": "SzAKe2qIkpno",
    "outputId": "c2a9bd5f-e7ad-49ab-cc18-db14d84559eb"
   },
   "outputs": [
    {
     "name": "stdout",
     "output_type": "stream",
     "text": [
      "Años: 22, meses: 8, dias: 9\n"
     ]
    }
   ],
   "source": [
    "edad_persona(23,6,2000)"
   ]
  },
  {
   "cell_type": "markdown",
   "metadata": {
    "id": "iunVN7VGvs8_"
   },
   "source": [
    "### Ejercicio 4"
   ]
  },
  {
   "cell_type": "code",
   "execution_count": 7,
   "metadata": {
    "id": "3EbXV7lzkr6e"
   },
   "outputs": [],
   "source": [
    "def tupla_to_string(tupla):\n",
    "  print(type(tupla))\n",
    "  print(''.join(map(str,tupla)))"
   ]
  },
  {
   "cell_type": "code",
   "execution_count": 8,
   "metadata": {
    "colab": {
     "base_uri": "https://localhost:8080/"
    },
    "id": "6HZLgchFwNwo",
    "outputId": "c1a19517-218d-4d44-8ecc-a4c0f44a2069"
   },
   "outputs": [
    {
     "name": "stdout",
     "output_type": "stream",
     "text": [
      "<class 'tuple'>\n",
      "123\n"
     ]
    }
   ],
   "source": [
    "tupla_to_string((1,2,3))"
   ]
  },
  {
   "cell_type": "markdown",
   "metadata": {
    "id": "rLxumNck0A47"
   },
   "source": [
    "### Ejercicio 5"
   ]
  },
  {
   "cell_type": "code",
   "execution_count": 9,
   "metadata": {
    "id": "nPK9Aa7-wQNW"
   },
   "outputs": [],
   "source": [
    "def eliminar_tuplas_vacias(tuplas):\n",
    "    tuplas = list(filter(None, tuplas))\n",
    "    return tuplas"
   ]
  },
  {
   "cell_type": "code",
   "execution_count": 10,
   "metadata": {
    "colab": {
     "base_uri": "https://localhost:8080/"
    },
    "id": "vR0GFMOl0c_X",
    "outputId": "1f24157a-4c09-4f6f-b812-e04fc5e2611b"
   },
   "outputs": [
    {
     "name": "stdout",
     "output_type": "stream",
     "text": [
      "[('X',), ('a', 'b'), ('a', 'b', 'c'), 'd']\n"
     ]
    }
   ],
   "source": [
    "tp = eliminar_tuplas_vacias([(),(),('X',),('a','b'),('a','b','c'),('d')])\n",
    "print(tp)"
   ]
  },
  {
   "cell_type": "markdown",
   "metadata": {
    "id": "8HaAFRM92ccW"
   },
   "source": [
    "### Ejercicio 6"
   ]
  },
  {
   "cell_type": "code",
   "execution_count": 11,
   "metadata": {
    "id": "XI4FGK022QAe"
   },
   "outputs": [],
   "source": [
    "def calcular_promedio(tuplas):\n",
    "  promedios = ()\n",
    "  for tupla in tuplas:\n",
    "    promedios += (sum(tupla)/len(tupla),)\n",
    "  return promedios"
   ]
  },
  {
   "cell_type": "code",
   "execution_count": 12,
   "metadata": {
    "colab": {
     "base_uri": "https://localhost:8080/"
    },
    "id": "9RgfgJNI37oX",
    "outputId": "bd586685-9039-4a14-a9e4-e3f0ff90b66b"
   },
   "outputs": [
    {
     "data": {
      "text/plain": [
       "(10.5, 44.0, 58.0)"
      ]
     },
     "execution_count": 12,
     "metadata": {},
     "output_type": "execute_result"
    }
   ],
   "source": [
    "calcular_promedio(((10,10,10,12),(30,45,56,45),(81,80,39,32)))"
   ]
  },
  {
   "cell_type": "markdown",
   "metadata": {
    "id": "9PNRb4Oc41bN"
   },
   "source": [
    "### Ejercicio 7"
   ]
  },
  {
   "cell_type": "code",
   "execution_count": 13,
   "metadata": {
    "id": "saNGN4GC5Suo"
   },
   "outputs": [],
   "source": [
    "def gestion_facturas():\n",
    "\n",
    "  dict_facturas = {}\n",
    "  cant_pagada = 0\n",
    "  cant_pendiente = 0\n",
    "\n",
    "  keep = True\n",
    "  while(keep):\n",
    "    user_input = input(\"¡Bienvenido! ¿Qué desea hacer?\\n 1. Añadir una factura\\n2. Pagar una factura\\n3.Terminar: \")\n",
    "    print(user_input)\n",
    "    if(user_input == '1'):\n",
    "      num_factura = input(\"Ingrese el número de factura: \")\n",
    "      costo_factura = input(\"Ingrese el costo de la factura: \")\n",
    "      ndict = {num_factura:\n",
    "          {'costo_factura': costo_factura}\n",
    "      }\n",
    "      dict_facturas.update(ndict)\n",
    "      print(dict_facturas)\n",
    "      cant_pendiente += float(costo_factura)\n",
    "      print(\"* Cantidad cobrada hasta el momento: {}\\nCantidad pendiente de cobro al momento: {}\".format(cant_pagada, cant_pendiente))\n",
    "    elif(user_input=='2'):\n",
    "      num_factura = input(\"Ingrese el número de factura a pagar: \")\n",
    "      remove_key = dict_facturas.pop(num_factura, None)\n",
    "      print(remove_key)\n",
    "      if remove_key != None:\n",
    "        print(\"La factura {} ha sido pagada.\".format(num_factura))\n",
    "        cant_pagada += float(remove_key['costo_factura'])\n",
    "        cant_pendiente -= cant_pagada\n",
    "      else:\n",
    "        print(\"La factura {} no existe en el sistema.\".format(num_factura))\n",
    "      print(\"* Cantidad cobrada hasta el momento: {}\\nCantidad pendiente de cobro al momento: {}\".format(cant_pagada, cant_pendiente))\n",
    "    else:\n",
    "      keep = False"
   ]
  },
  {
   "cell_type": "code",
   "execution_count": 14,
   "metadata": {
    "colab": {
     "base_uri": "https://localhost:8080/"
    },
    "id": "Lbp1fCiq6E8E",
    "outputId": "a83ad31d-2316-437a-9c87-330f067962ee"
   },
   "outputs": [
    {
     "name": "stdin",
     "output_type": "stream",
     "text": [
      "¡Bienvenido! ¿Qué desea hacer?\n",
      " 1. Añadir una factura\n",
      "2. Pagar una factura\n",
      "3.Terminar:  1\n"
     ]
    },
    {
     "name": "stdout",
     "output_type": "stream",
     "text": [
      "1\n"
     ]
    },
    {
     "name": "stdin",
     "output_type": "stream",
     "text": [
      "Ingrese el número de factura:  1\n",
      "Ingrese el costo de la factura:  10\n"
     ]
    },
    {
     "name": "stdout",
     "output_type": "stream",
     "text": [
      "{'1': {'costo_factura': '10'}}\n",
      "* Cantidad cobrada hasta el momento: 0\n",
      "Cantidad pendiente de cobro al momento: 10.0\n"
     ]
    },
    {
     "name": "stdin",
     "output_type": "stream",
     "text": [
      "¡Bienvenido! ¿Qué desea hacer?\n",
      " 1. Añadir una factura\n",
      "2. Pagar una factura\n",
      "3.Terminar:  1\n"
     ]
    },
    {
     "name": "stdout",
     "output_type": "stream",
     "text": [
      "1\n"
     ]
    },
    {
     "name": "stdin",
     "output_type": "stream",
     "text": [
      "Ingrese el número de factura:  2\n",
      "Ingrese el costo de la factura:  25\n"
     ]
    },
    {
     "name": "stdout",
     "output_type": "stream",
     "text": [
      "{'1': {'costo_factura': '10'}, '2': {'costo_factura': '25'}}\n",
      "* Cantidad cobrada hasta el momento: 0\n",
      "Cantidad pendiente de cobro al momento: 35.0\n"
     ]
    },
    {
     "name": "stdin",
     "output_type": "stream",
     "text": [
      "¡Bienvenido! ¿Qué desea hacer?\n",
      " 1. Añadir una factura\n",
      "2. Pagar una factura\n",
      "3.Terminar:  2\n"
     ]
    },
    {
     "name": "stdout",
     "output_type": "stream",
     "text": [
      "2\n"
     ]
    },
    {
     "name": "stdin",
     "output_type": "stream",
     "text": [
      "Ingrese el número de factura a pagar:  1\n"
     ]
    },
    {
     "name": "stdout",
     "output_type": "stream",
     "text": [
      "{'costo_factura': '10'}\n",
      "La factura 1 ha sido pagada.\n",
      "* Cantidad cobrada hasta el momento: 10.0\n",
      "Cantidad pendiente de cobro al momento: 25.0\n"
     ]
    },
    {
     "name": "stdin",
     "output_type": "stream",
     "text": [
      "¡Bienvenido! ¿Qué desea hacer?\n",
      " 1. Añadir una factura\n",
      "2. Pagar una factura\n",
      "3.Terminar:  3\n"
     ]
    },
    {
     "name": "stdout",
     "output_type": "stream",
     "text": [
      "3\n"
     ]
    }
   ],
   "source": [
    "gestion_facturas()"
   ]
  },
  {
   "cell_type": "markdown",
   "metadata": {
    "id": "B5KYDz9sAKcK"
   },
   "source": [
    "### Ejercicio 8"
   ]
  },
  {
   "cell_type": "code",
   "execution_count": 15,
   "metadata": {
    "id": "9LQubNDp6G0C"
   },
   "outputs": [],
   "source": [
    "def crear_set_cartas():\n",
    "  set_cartas = set()\n",
    "  grupos = ['T','C','P','E']\n",
    "  for grupo in grupos:\n",
    "    for i in range(1, 14):\n",
    "      el = grupo + \"{:02d}\".format(i)\n",
    "      set_cartas.add(el)\n",
    "  return(set_cartas)"
   ]
  },
  {
   "cell_type": "code",
   "execution_count": 16,
   "metadata": {
    "colab": {
     "base_uri": "https://localhost:8080/"
    },
    "id": "4TByLwfcBtCp",
    "outputId": "2e8b063a-e3d1-4c23-ed08-808efb38f239"
   },
   "outputs": [
    {
     "data": {
      "text/plain": [
       "{'C01',\n",
       " 'C02',\n",
       " 'C03',\n",
       " 'C04',\n",
       " 'C05',\n",
       " 'C06',\n",
       " 'C07',\n",
       " 'C08',\n",
       " 'C09',\n",
       " 'C10',\n",
       " 'C11',\n",
       " 'C12',\n",
       " 'C13',\n",
       " 'E01',\n",
       " 'E02',\n",
       " 'E03',\n",
       " 'E04',\n",
       " 'E05',\n",
       " 'E06',\n",
       " 'E07',\n",
       " 'E08',\n",
       " 'E09',\n",
       " 'E10',\n",
       " 'E11',\n",
       " 'E12',\n",
       " 'E13',\n",
       " 'P01',\n",
       " 'P02',\n",
       " 'P03',\n",
       " 'P04',\n",
       " 'P05',\n",
       " 'P06',\n",
       " 'P07',\n",
       " 'P08',\n",
       " 'P09',\n",
       " 'P10',\n",
       " 'P11',\n",
       " 'P12',\n",
       " 'P13',\n",
       " 'T01',\n",
       " 'T02',\n",
       " 'T03',\n",
       " 'T04',\n",
       " 'T05',\n",
       " 'T06',\n",
       " 'T07',\n",
       " 'T08',\n",
       " 'T09',\n",
       " 'T10',\n",
       " 'T11',\n",
       " 'T12',\n",
       " 'T13'}"
      ]
     },
     "execution_count": 16,
     "metadata": {},
     "output_type": "execute_result"
    }
   ],
   "source": [
    "set_cartas = crear_set_cartas()\n",
    "set_cartas"
   ]
  },
  {
   "cell_type": "code",
   "execution_count": 19,
   "metadata": {
    "id": "nCmQonHrBubx"
   },
   "outputs": [],
   "source": [
    "import random\n",
    "\n",
    "def split_set(setdatos, c1_cantidad, c2_cantidad):\n",
    "  s1 = set(random.sample(setdatos, c1_cantidad))\n",
    "  s2 = set(random.sample(setdatos, c2_cantidad))\n",
    "  return s1, s2"
   ]
  },
  {
   "cell_type": "code",
   "execution_count": 21,
   "metadata": {
    "id": "IaVKO5zrCkxK"
   },
   "outputs": [
    {
     "name": "stderr",
     "output_type": "stream",
     "text": [
      "/tmp/ipykernel_81/1835338131.py:4: DeprecationWarning: Sampling from a set deprecated\n",
      "since Python 3.9 and will be removed in a subsequent version.\n",
      "  s1 = set(random.sample(setdatos, c1_cantidad))\n",
      "/tmp/ipykernel_81/1835338131.py:5: DeprecationWarning: Sampling from a set deprecated\n",
      "since Python 3.9 and will be removed in a subsequent version.\n",
      "  s2 = set(random.sample(setdatos, c2_cantidad))\n"
     ]
    }
   ],
   "source": [
    "s1, s2 = split_set(set_cartas, 20, 15)"
   ]
  },
  {
   "cell_type": "code",
   "execution_count": 22,
   "metadata": {
    "colab": {
     "base_uri": "https://localhost:8080/"
    },
    "id": "UkaE35OnCzX1",
    "outputId": "628a80c3-5544-4d51-a35f-35fda5c2d3c4"
   },
   "outputs": [
    {
     "data": {
      "text/plain": [
       "{'C01',\n",
       " 'C02',\n",
       " 'C04',\n",
       " 'C09',\n",
       " 'C12',\n",
       " 'E04',\n",
       " 'E05',\n",
       " 'E06',\n",
       " 'E08',\n",
       " 'E09',\n",
       " 'E10',\n",
       " 'P01',\n",
       " 'P03',\n",
       " 'P05',\n",
       " 'P10',\n",
       " 'P11',\n",
       " 'T02',\n",
       " 'T11',\n",
       " 'T12',\n",
       " 'T13'}"
      ]
     },
     "execution_count": 22,
     "metadata": {},
     "output_type": "execute_result"
    }
   ],
   "source": [
    "s1"
   ]
  },
  {
   "cell_type": "code",
   "execution_count": 23,
   "metadata": {
    "colab": {
     "base_uri": "https://localhost:8080/"
    },
    "id": "ozHfvSxEC7In",
    "outputId": "b6b4bbf1-3c48-41f4-fc7c-18e7122964b7"
   },
   "outputs": [
    {
     "data": {
      "text/plain": [
       "{'C01',\n",
       " 'C02',\n",
       " 'C03',\n",
       " 'C06',\n",
       " 'E04',\n",
       " 'E05',\n",
       " 'E09',\n",
       " 'E11',\n",
       " 'E12',\n",
       " 'P02',\n",
       " 'P09',\n",
       " 'P12',\n",
       " 'T01',\n",
       " 'T06',\n",
       " 'T11'}"
      ]
     },
     "execution_count": 23,
     "metadata": {},
     "output_type": "execute_result"
    }
   ],
   "source": [
    "s2"
   ]
  },
  {
   "cell_type": "code",
   "execution_count": 24,
   "metadata": {
    "id": "XZ1BJghjC7p6"
   },
   "outputs": [],
   "source": [
    "intersection = s1.intersection(s2)"
   ]
  },
  {
   "cell_type": "code",
   "execution_count": 25,
   "metadata": {
    "id": "rpS0ZDqyFlOO"
   },
   "outputs": [],
   "source": [
    "p_intersection = len(intersection)/len(set_cartas)"
   ]
  },
  {
   "cell_type": "code",
   "execution_count": 26,
   "metadata": {
    "colab": {
     "base_uri": "https://localhost:8080/"
    },
    "id": "BbqnsLbmFXvf",
    "outputId": "115ee1e3-420c-4c17-adc5-00b271727a49"
   },
   "outputs": [
    {
     "data": {
      "text/plain": [
       "0.11538461538461539"
      ]
     },
     "execution_count": 26,
     "metadata": {},
     "output_type": "execute_result"
    }
   ],
   "source": [
    "p_intersection"
   ]
  },
  {
   "cell_type": "code",
   "execution_count": 27,
   "metadata": {
    "colab": {
     "base_uri": "https://localhost:8080/"
    },
    "id": "wvgIBJKIFkHV",
    "outputId": "d6b23956-65b7-4df9-eb03-f97e2da55cfa"
   },
   "outputs": [
    {
     "data": {
      "text/plain": [
       "0.38461538461538464"
      ]
     },
     "execution_count": 27,
     "metadata": {},
     "output_type": "execute_result"
    }
   ],
   "source": [
    "p_s1 = len(s1)/len(set_cartas)\n",
    "p_s1"
   ]
  },
  {
   "cell_type": "code",
   "execution_count": 28,
   "metadata": {
    "colab": {
     "base_uri": "https://localhost:8080/"
    },
    "id": "3T6rVkDhGJ5D",
    "outputId": "51d36c5f-dac2-4084-bb5a-8fba60b360c7"
   },
   "outputs": [
    {
     "data": {
      "text/plain": [
       "0.28846153846153844"
      ]
     },
     "execution_count": 28,
     "metadata": {},
     "output_type": "execute_result"
    }
   ],
   "source": [
    "p_s2 = len(s2)/len(set_cartas)\n",
    "p_s2"
   ]
  },
  {
   "cell_type": "code",
   "execution_count": 29,
   "metadata": {
    "colab": {
     "base_uri": "https://localhost:8080/"
    },
    "id": "l2ei2WWyGQYf",
    "outputId": "9910cdce-2bd7-4152-d614-4ba0fd2bfa7c"
   },
   "outputs": [
    {
     "data": {
      "text/plain": [
       "0.11094674556213018"
      ]
     },
     "execution_count": 29,
     "metadata": {},
     "output_type": "execute_result"
    }
   ],
   "source": [
    "regla_del_producto = p_s1*p_s2\n",
    "regla_del_producto"
   ]
  },
  {
   "cell_type": "code",
   "execution_count": 30,
   "metadata": {
    "colab": {
     "base_uri": "https://localhost:8080/"
    },
    "id": "F4otPQjcGYKJ",
    "outputId": "17b6dc8b-95b6-4f4c-a55d-8d64dfcf433c"
   },
   "outputs": [
    {
     "name": "stdout",
     "output_type": "stream",
     "text": [
      "No son eventos independientes\n"
     ]
    }
   ],
   "source": [
    "if(p_intersection == regla_del_producto):\n",
    "  print(\"Son eventos independientes\")\n",
    "else:\n",
    "  print(\"No son eventos independientes\")"
   ]
  },
  {
   "cell_type": "code",
   "execution_count": 31,
   "metadata": {
    "id": "xdBRO-5mGoeT"
   },
   "outputs": [],
   "source": [
    "union = s1.union(s2)"
   ]
  },
  {
   "cell_type": "code",
   "execution_count": 32,
   "metadata": {
    "colab": {
     "base_uri": "https://localhost:8080/"
    },
    "id": "gIH66MKcGtxJ",
    "outputId": "36872d15-3d56-4401-feb8-69ab00262b5e"
   },
   "outputs": [
    {
     "data": {
      "text/plain": [
       "0.5576923076923077"
      ]
     },
     "execution_count": 32,
     "metadata": {},
     "output_type": "execute_result"
    }
   ],
   "source": [
    "p_union = len(union)/len(set_cartas)\n",
    "p_union"
   ]
  },
  {
   "cell_type": "code",
   "execution_count": 33,
   "metadata": {
    "colab": {
     "base_uri": "https://localhost:8080/"
    },
    "id": "deIdY-pjGy2K",
    "outputId": "2536b4e1-9da1-4505-952c-3936ba82cc27"
   },
   "outputs": [
    {
     "data": {
      "text/plain": [
       "0.5576923076923077"
      ]
     },
     "execution_count": 33,
     "metadata": {},
     "output_type": "execute_result"
    }
   ],
   "source": [
    "regla_de_la_adicion = p_s1+p_s2-p_intersection\n",
    "regla_de_la_adicion"
   ]
  },
  {
   "cell_type": "code",
   "execution_count": 34,
   "metadata": {
    "colab": {
     "base_uri": "https://localhost:8080/"
    },
    "id": "yaWxXtVhG2g5",
    "outputId": "8f6e3ac2-5750-4f7a-b3bb-734f81a78072"
   },
   "outputs": [
    {
     "name": "stdout",
     "output_type": "stream",
     "text": [
      "Se cumple la regla de la adicion\n"
     ]
    }
   ],
   "source": [
    "if(p_union == regla_de_la_adicion):\n",
    "  print(\"Se cumple la regla de la adicion\")\n",
    "else:\n",
    "  print(\"No se cumple la regla de la adicion\")"
   ]
  },
  {
   "cell_type": "code",
   "execution_count": null,
   "metadata": {
    "id": "MZGfbEcsHJDa"
   },
   "outputs": [],
   "source": []
  }
 ],
 "metadata": {
  "colab": {
   "provenance": []
  },
  "kernelspec": {
   "display_name": "default:Python",
   "language": "python",
   "name": "conda-env-default-py"
  },
  "language_info": {
   "codemirror_mode": {
    "name": "ipython",
    "version": 3
   },
   "file_extension": ".py",
   "mimetype": "text/x-python",
   "name": "python",
   "nbconvert_exporter": "python",
   "pygments_lexer": "ipython3",
   "version": "3.9.13"
  }
 },
 "nbformat": 4,
 "nbformat_minor": 4
}
